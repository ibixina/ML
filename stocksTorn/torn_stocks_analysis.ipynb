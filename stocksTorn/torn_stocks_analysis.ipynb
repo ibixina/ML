{
  "cells": [
    {
      "cell_type": "markdown",
      "metadata": {
        "colab_type": "text",
        "id": "view-in-github"
      },
      "source": [
        "<a href=\"https://colab.research.google.com/github/ibixina/ML/blob/main/stocksTorn/torn_stocks_analysis.ipynb\" target=\"_parent\"><img src=\"https://colab.research.google.com/assets/colab-badge.svg\" alt=\"Open In Colab\"/></a>"
      ]
    },
    {
      "cell_type": "code",
      "execution_count": 2,
      "metadata": {
        "id": "xtdw-Ic9Y3dO"
      },
      "outputs": [],
      "source": [
        "lag_h6_filepath = \"./stocksData/lag_h6.csv\""
      ]
    },
    {
      "cell_type": "code",
      "execution_count": 3,
      "metadata": {
        "colab": {
          "base_uri": "https://localhost:8080/",
          "height": 206
        },
        "id": "Y-9V2c8ZZJh0",
        "outputId": "f598563f-26ba-4a22-d5ff-c158a41944cc"
      },
      "outputs": [
        {
          "data": {
            "text/html": [
              "<div>\n",
              "<style scoped>\n",
              "    .dataframe tbody tr th:only-of-type {\n",
              "        vertical-align: middle;\n",
              "    }\n",
              "\n",
              "    .dataframe tbody tr th {\n",
              "        vertical-align: top;\n",
              "    }\n",
              "\n",
              "    .dataframe thead th {\n",
              "        text-align: right;\n",
              "    }\n",
              "</style>\n",
              "<table border=\"1\" class=\"dataframe\">\n",
              "  <thead>\n",
              "    <tr style=\"text-align: right;\">\n",
              "      <th></th>\n",
              "      <th>Timestamp</th>\n",
              "      <th>Opening Price</th>\n",
              "      <th>High Price</th>\n",
              "      <th>Low Price</th>\n",
              "      <th>Closing Price</th>\n",
              "      <th>No of Shares</th>\n",
              "    </tr>\n",
              "  </thead>\n",
              "  <tbody>\n",
              "    <tr>\n",
              "      <th>0</th>\n",
              "      <td>1726358400</td>\n",
              "      <td>445.06</td>\n",
              "      <td>445.53</td>\n",
              "      <td>444.70</td>\n",
              "      <td>445.24</td>\n",
              "      <td>8893652530</td>\n",
              "    </tr>\n",
              "    <tr>\n",
              "      <th>1</th>\n",
              "      <td>1726380000</td>\n",
              "      <td>445.24</td>\n",
              "      <td>445.66</td>\n",
              "      <td>444.79</td>\n",
              "      <td>445.61</td>\n",
              "      <td>8895471743</td>\n",
              "    </tr>\n",
              "    <tr>\n",
              "      <th>2</th>\n",
              "      <td>1726401600</td>\n",
              "      <td>445.63</td>\n",
              "      <td>447.18</td>\n",
              "      <td>445.61</td>\n",
              "      <td>446.89</td>\n",
              "      <td>8895194259</td>\n",
              "    </tr>\n",
              "    <tr>\n",
              "      <th>3</th>\n",
              "      <td>1726423200</td>\n",
              "      <td>446.90</td>\n",
              "      <td>448.07</td>\n",
              "      <td>446.90</td>\n",
              "      <td>447.92</td>\n",
              "      <td>8892811400</td>\n",
              "    </tr>\n",
              "    <tr>\n",
              "      <th>4</th>\n",
              "      <td>1726444800</td>\n",
              "      <td>447.95</td>\n",
              "      <td>448.67</td>\n",
              "      <td>447.72</td>\n",
              "      <td>448.15</td>\n",
              "      <td>8892452489</td>\n",
              "    </tr>\n",
              "  </tbody>\n",
              "</table>\n",
              "</div>"
            ],
            "text/plain": [
              "    Timestamp  Opening Price  High Price  Low Price  Closing Price  \\\n",
              "0  1726358400         445.06      445.53     444.70         445.24   \n",
              "1  1726380000         445.24      445.66     444.79         445.61   \n",
              "2  1726401600         445.63      447.18     445.61         446.89   \n",
              "3  1726423200         446.90      448.07     446.90         447.92   \n",
              "4  1726444800         447.95      448.67     447.72         448.15   \n",
              "\n",
              "   No of Shares  \n",
              "0    8893652530  \n",
              "1    8895471743  \n",
              "2    8895194259  \n",
              "3    8892811400  \n",
              "4    8892452489  "
            ]
          },
          "execution_count": 3,
          "metadata": {},
          "output_type": "execute_result"
        }
      ],
      "source": [
        "import pandas as pd\n",
        "\n",
        "stockData = pd.read_csv(lag_h6_filepath)\n",
        "stockData.head()"
      ]
    },
    {
      "cell_type": "code",
      "execution_count": 4,
      "metadata": {
        "cellView": "form",
        "colab": {
          "base_uri": "https://localhost:8080/",
          "height": 548
        },
        "id": "CWyT7j7oZgaf",
        "outputId": "6fb67c90-e3ee-40db-f257-5d78f073187c"
      },
      "outputs": [
        {
          "data": {
            "image/png": "[encoded data removed]",
            "text/plain": [
              "<Figure size 1000x520 with 1 Axes>"
            ]
          },
          "metadata": {},
          "output_type": "display_data"
        }
      ],
      "source": [
        "# @title Timestamp vs Closing Price\n",
        "\n",
        "from matplotlib import pyplot as plt\n",
        "import seaborn as sns\n",
        "def _plot_series(series, series_name, series_index=0):\n",
        "  palette = list(sns.palettes.mpl_palette('Dark2'))\n",
        "  xs = series['Timestamp']\n",
        "  ys = series['Closing Price']\n",
        "\n",
        "  plt.plot(xs, ys, label=series_name, color=palette[series_index % len(palette)])\n",
        "\n",
        "fig, ax = plt.subplots(figsize=(10, 5.2), layout='constrained')\n",
        "df_sorted = stockData.sort_values('Timestamp', ascending=True)\n",
        "_plot_series(df_sorted, '')\n",
        "sns.despine(fig=fig, ax=ax)\n",
        "plt.xlabel('Timestamp')\n",
        "_ = plt.ylabel('Closing Price')"
      ]
    },
    {
      "cell_type": "code",
      "execution_count": 5,
      "metadata": {
        "colab": {
          "base_uri": "https://localhost:8080/"
        },
        "id": "-XvnUlFccbV0",
        "outputId": "7fd2e7ca-c93f-47ee-ae91-59712a60b175"
      },
      "outputs": [
        {
          "data": {
            "text/plain": [
              "(5992, 6)"
            ]
          },
          "execution_count": 5,
          "metadata": {},
          "output_type": "execute_result"
        }
      ],
      "source": [
        "# only keep unique timestamps\n",
        "stockDataCopy = stockData.copy()\n",
        "stockDataCopy.drop_duplicates(subset=['Timestamp'], inplace=True)\n",
        "stockDataCopy.shape"
      ]
    },
    {
      "cell_type": "code",
      "execution_count": null,
      "metadata": {
        "colab": {
          "base_uri": "https://localhost:8080/",
          "height": 258
        },
        "id": "-eSZ3W_VaAEQ",
        "outputId": "70f119d7-fa58-441e-af7b-0256a360427c"
      },
      "outputs": [
        {
          "name": "stdout",
          "output_type": "stream",
          "text": [
            "(5991, 7)\n",
            "(5981, 17)\n"
          ]
        },
        {
          "data": {
            "text/html": [
              "<div>\n",
              "<style scoped>\n",
              "    .dataframe tbody tr th:only-of-type {\n",
              "        vertical-align: middle;\n",
              "    }\n",
              "\n",
              "    .dataframe tbody tr th {\n",
              "        vertical-align: top;\n",
              "    }\n",
              "\n",
              "    .dataframe thead th {\n",
              "        text-align: right;\n",
              "    }\n",
              "</style>\n",
              "<table border=\"1\" class=\"dataframe\">\n",
              "  <thead>\n",
              "    <tr style=\"text-align: right;\">\n",
              "      <th></th>\n",
              "      <th>Timestamp</th>\n",
              "      <th>Opening Price</th>\n",
              "      <th>High Price</th>\n",
              "      <th>Low Price</th>\n",
              "      <th>Closing Price</th>\n",
              "      <th>No of Shares</th>\n",
              "      <th>NextValue</th>\n",
              "      <th>Low Price Lag 1</th>\n",
              "      <th>Low Price Lag 2</th>\n",
              "      <th>Low Price Lag 3</th>\n",
              "      <th>Low Price Lag 4</th>\n",
              "      <th>Low Price Lag 5</th>\n",
              "      <th>Low Price Lag 6</th>\n",
              "      <th>Low Price Lag 7</th>\n",
              "      <th>Low Price Lag 8</th>\n",
              "      <th>Low Price Lag 9</th>\n",
              "      <th>Low Price Lag 10</th>\n",
              "    </tr>\n",
              "  </thead>\n",
              "  <tbody>\n",
              "    <tr>\n",
              "      <th>10</th>\n",
              "      <td>1726574400</td>\n",
              "      <td>448.94</td>\n",
              "      <td>449.49</td>\n",
              "      <td>448.60</td>\n",
              "      <td>448.73</td>\n",
              "      <td>8256689623</td>\n",
              "      <td>448.63</td>\n",
              "      <td>448.14</td>\n",
              "      <td>448.46</td>\n",
              "      <td>448.00</td>\n",
              "      <td>448.25</td>\n",
              "      <td>448.17</td>\n",
              "      <td>447.72</td>\n",
              "      <td>446.90</td>\n",
              "      <td>445.61</td>\n",
              "      <td>444.79</td>\n",
              "      <td>444.70</td>\n",
              "    </tr>\n",
              "    <tr>\n",
              "      <th>11</th>\n",
              "      <td>1726596000</td>\n",
              "      <td>448.83</td>\n",
              "      <td>449.85</td>\n",
              "      <td>448.63</td>\n",
              "      <td>449.74</td>\n",
              "      <td>8253409201</td>\n",
              "      <td>449.65</td>\n",
              "      <td>448.60</td>\n",
              "      <td>448.14</td>\n",
              "      <td>448.46</td>\n",
              "      <td>448.00</td>\n",
              "      <td>448.25</td>\n",
              "      <td>448.17</td>\n",
              "      <td>447.72</td>\n",
              "      <td>446.90</td>\n",
              "      <td>445.61</td>\n",
              "      <td>444.79</td>\n",
              "    </tr>\n",
              "    <tr>\n",
              "      <th>12</th>\n",
              "      <td>1726617600</td>\n",
              "      <td>449.71</td>\n",
              "      <td>450.32</td>\n",
              "      <td>449.65</td>\n",
              "      <td>450.31</td>\n",
              "      <td>8253977917</td>\n",
              "      <td>450.16</td>\n",
              "      <td>448.63</td>\n",
              "      <td>448.60</td>\n",
              "      <td>448.14</td>\n",
              "      <td>448.46</td>\n",
              "      <td>448.00</td>\n",
              "      <td>448.25</td>\n",
              "      <td>448.17</td>\n",
              "      <td>447.72</td>\n",
              "      <td>446.90</td>\n",
              "      <td>445.61</td>\n",
              "    </tr>\n",
              "    <tr>\n",
              "      <th>13</th>\n",
              "      <td>1726639200</td>\n",
              "      <td>450.25</td>\n",
              "      <td>452.75</td>\n",
              "      <td>450.16</td>\n",
              "      <td>452.06</td>\n",
              "      <td>8258822266</td>\n",
              "      <td>451.53</td>\n",
              "      <td>449.65</td>\n",
              "      <td>448.63</td>\n",
              "      <td>448.60</td>\n",
              "      <td>448.14</td>\n",
              "      <td>448.46</td>\n",
              "      <td>448.00</td>\n",
              "      <td>448.25</td>\n",
              "      <td>448.17</td>\n",
              "      <td>447.72</td>\n",
              "      <td>446.90</td>\n",
              "    </tr>\n",
              "    <tr>\n",
              "      <th>14</th>\n",
              "      <td>1726660800</td>\n",
              "      <td>452.15</td>\n",
              "      <td>452.54</td>\n",
              "      <td>451.53</td>\n",
              "      <td>452.42</td>\n",
              "      <td>8256314545</td>\n",
              "      <td>452.25</td>\n",
              "      <td>450.16</td>\n",
              "      <td>449.65</td>\n",
              "      <td>448.63</td>\n",
              "      <td>448.60</td>\n",
              "      <td>448.14</td>\n",
              "      <td>448.46</td>\n",
              "      <td>448.00</td>\n",
              "      <td>448.25</td>\n",
              "      <td>448.17</td>\n",
              "      <td>447.72</td>\n",
              "    </tr>\n",
              "  </tbody>\n",
              "</table>\n",
              "</div>"
            ],
            "text/plain": [
              "     Timestamp  Opening Price  High Price  Low Price  Closing Price  \\\n",
              "10  1726574400         448.94      449.49     448.60         448.73   \n",
              "11  1726596000         448.83      449.85     448.63         449.74   \n",
              "12  1726617600         449.71      450.32     449.65         450.31   \n",
              "13  1726639200         450.25      452.75     450.16         452.06   \n",
              "14  1726660800         452.15      452.54     451.53         452.42   \n",
              "\n",
              "    No of Shares  NextValue  Low Price Lag 1  Low Price Lag 2  \\\n",
              "10    8256689623     448.63           448.14           448.46   \n",
              "11    8253409201     449.65           448.60           448.14   \n",
              "12    8253977917     450.16           448.63           448.60   \n",
              "13    8258822266     451.53           449.65           448.63   \n",
              "14    8256314545     452.25           450.16           449.65   \n",
              "\n",
              "    Low Price Lag 3  Low Price Lag 4  Low Price Lag 5  Low Price Lag 6  \\\n",
              "10           448.00           448.25           448.17           447.72   \n",
              "11           448.46           448.00           448.25           448.17   \n",
              "12           448.14           448.46           448.00           448.25   \n",
              "13           448.60           448.14           448.46           448.00   \n",
              "14           448.63           448.60           448.14           448.46   \n",
              "\n",
              "    Low Price Lag 7  Low Price Lag 8  Low Price Lag 9  Low Price Lag 10  \n",
              "10           446.90           445.61           444.79            444.70  \n",
              "11           447.72           446.90           445.61            444.79  \n",
              "12           448.17           447.72           446.90            445.61  \n",
              "13           448.25           448.17           447.72            446.90  \n",
              "14           448.00           448.25           448.17            447.72  "
            ]
          },
          "execution_count": 6,
          "metadata": {},
          "output_type": "execute_result"
        }
      ],
      "source": [
        "\n",
        "stockDataCopy[\"NextValue\"] = stockDataCopy[\"Low Price\"].shift(-1)\n",
        "stockDataCopy.dropna(inplace=True)\n",
        "print(stockDataCopy.shape)\n",
        "stockDataCopy.head()\n",
        "\n",
        "# generate n lags\n",
        "\n",
        "n_lags = 10\n",
        "for i in range (1, n_lags + 1):\n",
        "    stockDataCopy[f\"Low Price Lag {i}\"] = stockDataCopy[\"Low Price\"].shift(i)\n",
        "stockDataCopy.dropna(inplace=True)\n",
        "print(stockDataCopy.shape)\n",
        "stockDataCopy.head()\n"
      ]
    },
    {
      "cell_type": "code",
      "execution_count": 7,
      "metadata": {
        "colab": {
          "base_uri": "https://localhost:8080/"
        },
        "id": "g5l-h5bG_5G0",
        "outputId": "0e9b332a-b883-49d0-cda0-57def0fc8df2"
      },
      "outputs": [
        {
          "name": "stdout",
          "output_type": "stream",
          "text": [
            "(4186, 11) (1795, 11) (4186,) (1795,)\n"
          ]
        }
      ],
      "source": [
        "from sklearn.model_selection import train_test_split\n",
        "\n",
        "drop = [\"Closing Price\", \"Opening Price\", \"High Price\", \"Timestamp\", \"No of Shares\", \"NextValue\"]\n",
        "df = stockDataCopy.copy()\n",
        "X = df.drop(drop, axis=1)\n",
        "y = df[\"NextValue\"]\n",
        "\n",
        "\n",
        "train_size = int(len(df) * 0.7)  # 70% for training\n",
        "train_df = df[:train_size]\n",
        "test_df = df[train_size:]\n",
        "\n",
        "X_train = train_df.drop(drop, axis=1)\n",
        "y_train = train_df[\"NextValue\"]\n",
        "\n",
        "X_test = test_df.drop(drop, axis=1)\n",
        "y_test = test_df[\"NextValue\"]\n",
        "\n",
        "print(X_train.shape, X_test.shape, y_train.shape, y_test.shape)"
      ]
    },
    {
      "cell_type": "code",
      "execution_count": 17,
      "metadata": {
        "colab": {
          "base_uri": "https://localhost:8080/"
        },
        "id": "lefuuqKT9l8E",
        "outputId": "afbf7be0-e38e-4602-969f-ea5bb8241a86"
      },
      "outputs": [
        {
          "name": "stdout",
          "output_type": "stream",
          "text": [
            "                               SARIMAX Results                                \n",
            "==============================================================================\n",
            "Dep. Variable:              Low Price   No. Observations:                 5952\n",
            "Model:               SARIMAX(2, 1, 3)   Log Likelihood              -13451.488\n",
            "Date:                Thu, 22 May 2025   AIC                          26914.977\n",
            "Time:                        17:08:54   BIC                          26955.125\n",
            "Sample:                             0   HQIC                         26928.925\n",
            "                               - 5952                                         \n",
            "Covariance Type:                  opg                                         \n",
            "==============================================================================\n",
            "                 coef    std err          z      P>|z|      [0.025      0.975]\n",
            "------------------------------------------------------------------------------\n",
            "ar.L1          0.1545      4.013      0.038      0.969      -7.711       8.020\n",
            "ar.L2          0.7974      3.905      0.204      0.838      -6.856       8.451\n",
            "ma.L1         -0.1192      4.013     -0.030      0.976      -7.985       7.746\n",
            "ma.L2         -0.8098      3.773     -0.215      0.830      -8.204       6.584\n",
            "ma.L3         -0.0354      0.161     -0.220      0.826      -0.350       0.280\n",
            "sigma2         5.3805      0.005   1185.626      0.000       5.372       5.389\n",
            "===================================================================================\n",
            "Ljung-Box (L1) (Q):                   0.00   Jarque-Bera (JB):         369877448.04\n",
            "Prob(Q):                              1.00   Prob(JB):                         0.00\n",
            "Heteroskedasticity (H):              11.43   Skew:                           -28.93\n",
            "Prob(H) (two-sided):                  0.00   Kurtosis:                      1222.98\n",
            "===================================================================================\n",
            "\n",
            "Warnings:\n",
            "[1] Covariance matrix calculated using the outer product of gradients (complex-step).\n"
          ]
        }
      ],
      "source": [
        "#model a sarima 2,1,3 model\n",
        "from statsmodels.tsa.statespace.sarimax import SARIMAX\n",
        "\n",
        "model = SARIMAX(stockDataCopy[\"Low Price\"], order=(2, 1, 3))\n",
        "model_fit = model.fit()\n",
        "\n",
        "print(model_fit.summary())"
      ]
    },
    {
      "cell_type": "code",
      "execution_count": 8,
      "metadata": {
        "colab": {
          "base_uri": "https://localhost:8080/"
        },
        "id": "dqZ1yep5-qUU",
        "outputId": "8d16adb5-29f9-48a1-90b3-aca0901117e6"
      },
      "outputs": [
        {
          "name": "stderr",
          "output_type": "stream",
          "text": [
            "2025-05-23 23:52:44.230114: E external/local_xla/xla/stream_executor/cuda/cuda_fft.cc:477] Unable to register cuFFT factory: Attempting to register factory for plugin cuFFT when one has already been registered\n",
            "WARNING: All log messages before absl::InitializeLog() is called are written to STDERR\n",
            "E0000 00:00:1748044364.285472  198308 cuda_dnn.cc:8310] Unable to register cuDNN factory: Attempting to register factory for plugin cuDNN when one has already been registered\n",
            "E0000 00:00:1748044364.298432  198308 cuda_blas.cc:1418] Unable to register cuBLAS factory: Attempting to register factory for plugin cuBLAS when one has already been registered\n",
            "2025-05-23 23:52:44.432034: I tensorflow/core/platform/cpu_feature_guard.cc:210] This TensorFlow binary is optimized to use available CPU instructions in performance-critical operations.\n",
            "To enable the following instructions: AVX2 AVX512F FMA, in other operations, rebuild TensorFlow with the appropriate compiler flags.\n"
          ]
        },
        {
          "name": "stdout",
          "output_type": "stream",
          "text": [
            "X_train_lstm shape: (4186, 11, 1)\n",
            "X_test_lstm shape: (1795, 11, 1)\n",
            "y_train_lstm shape: (4186, 1)\n",
            "y_test_lstm shape: (1795, 1)\n"
          ]
        }
      ],
      "source": [
        "import numpy as np\n",
        "from tensorflow.keras.models import Sequential\n",
        "from tensorflow.keras.layers import LSTM, Dense\n",
        "\n",
        "# Assuming X_train, y_train, X_test, y_test are already created from the time-based split\n",
        "# X_train and X_test should contain the lag features and other relevant features\n",
        "\n",
        "# Reshape the input data for LSTM\n",
        "# The number of time steps will be the number of lag features (excluding the 'Low Price' itself if it's in X)\n",
        "# Let's assume X_train and X_test only contain the lag features and potentially other relevant features\n",
        "# We need to determine the number of features per time step and the number of time steps (sequence length)\n",
        "\n",
        "# Based on your previous code, X seems to contain \"Low Price Lag 1\" to \"Low Price Lag 10\"\n",
        "# So, the number of time steps is 10, and the number of features per time step is 1 (the Low Price value at that lag)\n",
        "\n",
        "# Let's verify the number of features in X_train to confirm the number of time steps\n",
        "num_features = X_train.shape[1] # This should be the number of lag features + other features in X\n",
        "\n",
        "# If X_train only contains the 'Low Price Lag X' columns (10 of them):\n",
        "time_steps = num_features\n",
        "n_features = 1 # One feature (Low Price) per time step in the sequence\n",
        "\n",
        "# Reshape the data for LSTM\n",
        "# We need to reshape each sample to be a sequence of time steps, where each time step has 'n_features'\n",
        "# Current shape of X_train: (samples, num_features) -> e.g., (some_number, 10)\n",
        "# Desired shape for LSTM: (samples, time_steps, n_features) -> e.g., (some_number, 10, 1)\n",
        "\n",
        "X_train_lstm = X_train.values.reshape((X_train.shape[0], time_steps, n_features))\n",
        "X_test_lstm = X_test.values.reshape((X_test.shape[0], time_steps, n_features))\n",
        "\n",
        "# Reshape y for LSTM (optional, but good practice to have a consistent shape for prediction)\n",
        "y_train_lstm = y_train.values.reshape((y_train.shape[0], 1))\n",
        "y_test_lstm = y_test.values.reshape((y_test.shape[0], 1))\n",
        "\n",
        "print(\"X_train_lstm shape:\", X_train_lstm.shape)\n",
        "print(\"X_test_lstm shape:\", X_test_lstm.shape)\n",
        "print(\"y_train_lstm shape:\", y_train_lstm.shape)\n",
        "print(\"y_test_lstm shape:\", y_test_lstm.shape)"
      ]
    },
    {
      "cell_type": "code",
      "execution_count": 9,
      "metadata": {
        "colab": {
          "base_uri": "https://localhost:8080/",
          "height": 259
        },
        "id": "ot3BJd4gBiH6",
        "outputId": "93573192-9c06-480b-e971-68c48a5d7b33"
      },
      "outputs": [
        {
          "name": "stderr",
          "output_type": "stream",
          "text": [
            "2025-05-23 23:52:50.555964: E external/local_xla/xla/stream_executor/cuda/cuda_driver.cc:152] failed call to cuInit: INTERNAL: CUDA error: Failed call to cuInit: UNKNOWN ERROR (303)\n",
            "/home/zeus/miniconda3/envs/cloudspace/lib/python3.10/site-packages/keras/src/layers/rnn/rnn.py:200: UserWarning: Do not pass an `input_shape`/`input_dim` argument to a layer. When using Sequential models, prefer using an `Input(shape)` object as the first layer in the model instead.\n",
            "  super().__init__(**kwargs)\n"
          ]
        },
        {
          "data": {
            "text/html": [
              "<pre style=\"white-space:pre;overflow-x:auto;line-height:normal;font-family:Menlo,'DejaVu Sans Mono',consolas,'Courier New',monospace\"><span style=\"font-weight: bold\">Model: \"sequential\"</span>\n",
              "</pre>\n"
            ],
            "text/plain": [
              "\u001b[1mModel: \"sequential\"\u001b[0m\n"
            ]
          },
          "metadata": {},
          "output_type": "display_data"
        },
        {
          "data": {
            "text/html": [
              "<pre style=\"white-space:pre;overflow-x:auto;line-height:normal;font-family:Menlo,'DejaVu Sans Mono',consolas,'Courier New',monospace\">┏━━━━━━━━━━━━━━━━━━━━━━━━━━━━━━━━━┳━━━━━━━━━━━━━━━━━━━━━━━━┳━━━━━━━━━━━━━━━┓\n",
              "┃<span style=\"font-weight: bold\"> Layer (type)                    </span>┃<span style=\"font-weight: bold\"> Output Shape           </span>┃<span style=\"font-weight: bold\">       Param # </span>┃\n",
              "┡━━━━━━━━━━━━━━━━━━━━━━━━━━━━━━━━━╇━━━━━━━━━━━━━━━━━━━━━━━━╇━━━━━━━━━━━━━━━┩\n",
              "│ lstm (<span style=\"color: #0087ff; text-decoration-color: #0087ff\">LSTM</span>)                     │ (<span style=\"color: #00d7ff; text-decoration-color: #00d7ff\">None</span>, <span style=\"color: #00af00; text-decoration-color: #00af00\">50</span>)             │        <span style=\"color: #00af00; text-decoration-color: #00af00\">10,400</span> │\n",
              "├─────────────────────────────────┼────────────────────────┼───────────────┤\n",
              "│ dense (<span style=\"color: #0087ff; text-decoration-color: #0087ff\">Dense</span>)                   │ (<span style=\"color: #00d7ff; text-decoration-color: #00d7ff\">None</span>, <span style=\"color: #00af00; text-decoration-color: #00af00\">1</span>)              │            <span style=\"color: #00af00; text-decoration-color: #00af00\">51</span> │\n",
              "└─────────────────────────────────┴────────────────────────┴───────────────┘\n",
              "</pre>\n"
            ],
            "text/plain": [
              "┏━━━━━━━━━━━━━━━━━━━━━━━━━━━━━━━━━┳━━━━━━━━━━━━━━━━━━━━━━━━┳━━━━━━━━━━━━━━━┓\n",
              "┃\u001b[1m \u001b[0m\u001b[1mLayer (type)                   \u001b[0m\u001b[1m \u001b[0m┃\u001b[1m \u001b[0m\u001b[1mOutput Shape          \u001b[0m\u001b[1m \u001b[0m┃\u001b[1m \u001b[0m\u001b[1m      Param #\u001b[0m\u001b[1m \u001b[0m┃\n",
              "┡━━━━━━━━━━━━━━━━━━━━━━━━━━━━━━━━━╇━━━━━━━━━━━━━━━━━━━━━━━━╇━━━━━━━━━━━━━━━┩\n",
              "│ lstm (\u001b[38;5;33mLSTM\u001b[0m)                     │ (\u001b[38;5;45mNone\u001b[0m, \u001b[38;5;34m50\u001b[0m)             │        \u001b[38;5;34m10,400\u001b[0m │\n",
              "├─────────────────────────────────┼────────────────────────┼───────────────┤\n",
              "│ dense (\u001b[38;5;33mDense\u001b[0m)                   │ (\u001b[38;5;45mNone\u001b[0m, \u001b[38;5;34m1\u001b[0m)              │            \u001b[38;5;34m51\u001b[0m │\n",
              "└─────────────────────────────────┴────────────────────────┴───────────────┘\n"
            ]
          },
          "metadata": {},
          "output_type": "display_data"
        },
        {
          "data": {
            "text/html": [
              "<pre style=\"white-space:pre;overflow-x:auto;line-height:normal;font-family:Menlo,'DejaVu Sans Mono',consolas,'Courier New',monospace\"><span style=\"font-weight: bold\"> Total params: </span><span style=\"color: #00af00; text-decoration-color: #00af00\">10,451</span> (40.82 KB)\n",
              "</pre>\n"
            ],
            "text/plain": [
              "\u001b[1m Total params: \u001b[0m\u001b[38;5;34m10,451\u001b[0m (40.82 KB)\n"
            ]
          },
          "metadata": {},
          "output_type": "display_data"
        },
        {
          "data": {
            "text/html": [
              "<pre style=\"white-space:pre;overflow-x:auto;line-height:normal;font-family:Menlo,'DejaVu Sans Mono',consolas,'Courier New',monospace\"><span style=\"font-weight: bold\"> Trainable params: </span><span style=\"color: #00af00; text-decoration-color: #00af00\">10,451</span> (40.82 KB)\n",
              "</pre>\n"
            ],
            "text/plain": [
              "\u001b[1m Trainable params: \u001b[0m\u001b[38;5;34m10,451\u001b[0m (40.82 KB)\n"
            ]
          },
          "metadata": {},
          "output_type": "display_data"
        },
        {
          "data": {
            "text/html": [
              "<pre style=\"white-space:pre;overflow-x:auto;line-height:normal;font-family:Menlo,'DejaVu Sans Mono',consolas,'Courier New',monospace\"><span style=\"font-weight: bold\"> Non-trainable params: </span><span style=\"color: #00af00; text-decoration-color: #00af00\">0</span> (0.00 B)\n",
              "</pre>\n"
            ],
            "text/plain": [
              "\u001b[1m Non-trainable params: \u001b[0m\u001b[38;5;34m0\u001b[0m (0.00 B)\n"
            ]
          },
          "metadata": {},
          "output_type": "display_data"
        }
      ],
      "source": [
        "# Build the LSTM model\n",
        "model = Sequential()\n",
        "model.add(LSTM(50, activation='relu', input_shape=(time_steps, n_features))) # You can adjust the number of LSTM units\n",
        "model.add(Dense(1)) # Output layer for a single prediction (the next Low Price)\n",
        "\n",
        "model.compile(optimizer='adam', loss='mse') # Use Adam optimizer and Mean Squared Error loss for regression\n",
        "\n",
        "model.summary()"
      ]
    },
    {
      "cell_type": "code",
      "execution_count": 10,
      "metadata": {
        "colab": {
          "base_uri": "https://localhost:8080/"
        },
        "id": "bwgPEaYRBtJG",
        "outputId": "d806b396-f07c-4b15-e7a5-ee51c472cf09"
      },
      "outputs": [
        {
          "name": "stdout",
          "output_type": "stream",
          "text": [
            "Epoch 1/150\n"
          ]
        },
        {
          "name": "stdout",
          "output_type": "stream",
          "text": [
            "\u001b[1m240/240\u001b[0m \u001b[32m━━━━━━━━━━━━━━━━━━━━\u001b[0m\u001b[37m\u001b[0m \u001b[1m4s\u001b[0m 8ms/step - loss: 2409.8037 - val_loss: 35.6816\n",
            "Epoch 2/150\n",
            "\u001b[1m240/240\u001b[0m \u001b[32m━━━━━━━━━━━━━━━━━━━━\u001b[0m\u001b[37m\u001b[0m \u001b[1m2s\u001b[0m 7ms/step - loss: 7.7407 - val_loss: 40.2356\n",
            "Epoch 3/150\n",
            "\u001b[1m240/240\u001b[0m \u001b[32m━━━━━━━━━━━━━━━━━━━━\u001b[0m\u001b[37m\u001b[0m \u001b[1m3s\u001b[0m 8ms/step - loss: 14.3486 - val_loss: 29.0764\n",
            "Epoch 4/150\n",
            "\u001b[1m240/240\u001b[0m \u001b[32m━━━━━━━━━━━━━━━━━━━━\u001b[0m\u001b[37m\u001b[0m \u001b[1m2s\u001b[0m 8ms/step - loss: 16.7785 - val_loss: 31.8133\n",
            "Epoch 5/150\n",
            "\u001b[1m240/240\u001b[0m \u001b[32m━━━━━━━━━━━━━━━━━━━━\u001b[0m\u001b[37m\u001b[0m \u001b[1m2s\u001b[0m 7ms/step - loss: 8.4792 - val_loss: 26.6747\n",
            "Epoch 6/150\n",
            "\u001b[1m240/240\u001b[0m \u001b[32m━━━━━━━━━━━━━━━━━━━━\u001b[0m\u001b[37m\u001b[0m \u001b[1m2s\u001b[0m 7ms/step - loss: 8.4655 - val_loss: 28.6278\n",
            "Epoch 7/150\n",
            "\u001b[1m240/240\u001b[0m \u001b[32m━━━━━━━━━━━━━━━━━━━━\u001b[0m\u001b[37m\u001b[0m \u001b[1m1s\u001b[0m 6ms/step - loss: 17.1209 - val_loss: 29.3535\n",
            "Epoch 8/150\n",
            "\u001b[1m240/240\u001b[0m \u001b[32m━━━━━━━━━━━━━━━━━━━━\u001b[0m\u001b[37m\u001b[0m \u001b[1m1s\u001b[0m 6ms/step - loss: 86.1740 - val_loss: 58.5213\n",
            "Epoch 9/150\n",
            "\u001b[1m240/240\u001b[0m \u001b[32m━━━━━━━━━━━━━━━━━━━━\u001b[0m\u001b[37m\u001b[0m \u001b[1m2s\u001b[0m 7ms/step - loss: 39.9842 - val_loss: 26.3142\n",
            "Epoch 10/150\n",
            "\u001b[1m240/240\u001b[0m \u001b[32m━━━━━━━━━━━━━━━━━━━━\u001b[0m\u001b[37m\u001b[0m \u001b[1m3s\u001b[0m 6ms/step - loss: 12.0761 - val_loss: 25.6379\n",
            "Epoch 11/150\n",
            "\u001b[1m240/240\u001b[0m \u001b[32m━━━━━━━━━━━━━━━━━━━━\u001b[0m\u001b[37m\u001b[0m \u001b[1m3s\u001b[0m 7ms/step - loss: 6.9691 - val_loss: 23.8830\n",
            "Epoch 12/150\n",
            "\u001b[1m240/240\u001b[0m \u001b[32m━━━━━━━━━━━━━━━━━━━━\u001b[0m\u001b[37m\u001b[0m \u001b[1m2s\u001b[0m 7ms/step - loss: 12.2921 - val_loss: 25.6077\n",
            "Epoch 13/150\n",
            "\u001b[1m240/240\u001b[0m \u001b[32m━━━━━━━━━━━━━━━━━━━━\u001b[0m\u001b[37m\u001b[0m \u001b[1m2s\u001b[0m 6ms/step - loss: 11.5499 - val_loss: 23.1784\n",
            "Epoch 14/150\n",
            "\u001b[1m240/240\u001b[0m \u001b[32m━━━━━━━━━━━━━━━━━━━━\u001b[0m\u001b[37m\u001b[0m \u001b[1m2s\u001b[0m 7ms/step - loss: 7.4386 - val_loss: 22.4715\n",
            "Epoch 15/150\n",
            "\u001b[1m240/240\u001b[0m \u001b[32m━━━━━━━━━━━━━━━━━━━━\u001b[0m\u001b[37m\u001b[0m \u001b[1m2s\u001b[0m 6ms/step - loss: 6.1670 - val_loss: 21.9991\n",
            "Epoch 16/150\n",
            "\u001b[1m240/240\u001b[0m \u001b[32m━━━━━━━━━━━━━━━━━━━━\u001b[0m\u001b[37m\u001b[0m \u001b[1m3s\u001b[0m 6ms/step - loss: 8.0667 - val_loss: 22.3959\n",
            "Epoch 17/150\n",
            "\u001b[1m240/240\u001b[0m \u001b[32m━━━━━━━━━━━━━━━━━━━━\u001b[0m\u001b[37m\u001b[0m \u001b[1m2s\u001b[0m 7ms/step - loss: 22.3967 - val_loss: 23.0038\n",
            "Epoch 18/150\n",
            "\u001b[1m240/240\u001b[0m \u001b[32m━━━━━━━━━━━━━━━━━━━━\u001b[0m\u001b[37m\u001b[0m \u001b[1m2s\u001b[0m 6ms/step - loss: 3.6120 - val_loss: 37.0559\n",
            "Epoch 19/150\n",
            "\u001b[1m240/240\u001b[0m \u001b[32m━━━━━━━━━━━━━━━━━━━━\u001b[0m\u001b[37m\u001b[0m \u001b[1m3s\u001b[0m 6ms/step - loss: 18.4729 - val_loss: 23.9209\n",
            "Epoch 20/150\n",
            "\u001b[1m240/240\u001b[0m \u001b[32m━━━━━━━━━━━━━━━━━━━━\u001b[0m\u001b[37m\u001b[0m \u001b[1m2s\u001b[0m 6ms/step - loss: 8.6152 - val_loss: 22.4149\n",
            "Epoch 21/150\n",
            "\u001b[1m240/240\u001b[0m \u001b[32m━━━━━━━━━━━━━━━━━━━━\u001b[0m\u001b[37m\u001b[0m \u001b[1m3s\u001b[0m 7ms/step - loss: 11.3269 - val_loss: 23.5571\n",
            "Epoch 22/150\n",
            "\u001b[1m240/240\u001b[0m \u001b[32m━━━━━━━━━━━━━━━━━━━━\u001b[0m\u001b[37m\u001b[0m \u001b[1m3s\u001b[0m 7ms/step - loss: 11.2137 - val_loss: 21.1191\n",
            "Epoch 23/150\n",
            "\u001b[1m240/240\u001b[0m \u001b[32m━━━━━━━━━━━━━━━━━━━━\u001b[0m\u001b[37m\u001b[0m \u001b[1m2s\u001b[0m 7ms/step - loss: 7.7797 - val_loss: 28.2810\n",
            "Epoch 24/150\n",
            "\u001b[1m240/240\u001b[0m \u001b[32m━━━━━━━━━━━━━━━━━━━━\u001b[0m\u001b[37m\u001b[0m \u001b[1m3s\u001b[0m 7ms/step - loss: 10.9054 - val_loss: 21.4887\n",
            "Epoch 25/150\n",
            "\u001b[1m240/240\u001b[0m \u001b[32m━━━━━━━━━━━━━━━━━━━━\u001b[0m\u001b[37m\u001b[0m \u001b[1m2s\u001b[0m 6ms/step - loss: 12.3948 - val_loss: 21.7094\n",
            "Epoch 26/150\n",
            "\u001b[1m240/240\u001b[0m \u001b[32m━━━━━━━━━━━━━━━━━━━━\u001b[0m\u001b[37m\u001b[0m \u001b[1m1s\u001b[0m 6ms/step - loss: 6.1435 - val_loss: 27.7080\n",
            "Epoch 27/150\n",
            "\u001b[1m240/240\u001b[0m \u001b[32m━━━━━━━━━━━━━━━━━━━━\u001b[0m\u001b[37m\u001b[0m \u001b[1m2s\u001b[0m 7ms/step - loss: 6.6205 - val_loss: 43.6615\n",
            "Epoch 28/150\n",
            "\u001b[1m240/240\u001b[0m \u001b[32m━━━━━━━━━━━━━━━━━━━━\u001b[0m\u001b[37m\u001b[0m \u001b[1m2s\u001b[0m 6ms/step - loss: 14.5699 - val_loss: 20.4856\n",
            "Epoch 29/150\n",
            "\u001b[1m240/240\u001b[0m \u001b[32m━━━━━━━━━━━━━━━━━━━━\u001b[0m\u001b[37m\u001b[0m \u001b[1m3s\u001b[0m 7ms/step - loss: 5.8251 - val_loss: 23.2079\n",
            "Epoch 30/150\n",
            "\u001b[1m240/240\u001b[0m \u001b[32m━━━━━━━━━━━━━━━━━━━━\u001b[0m\u001b[37m\u001b[0m \u001b[1m2s\u001b[0m 7ms/step - loss: 11.3118 - val_loss: 21.7398\n",
            "Epoch 31/150\n",
            "\u001b[1m240/240\u001b[0m \u001b[32m━━━━━━━━━━━━━━━━━━━━\u001b[0m\u001b[37m\u001b[0m \u001b[1m3s\u001b[0m 7ms/step - loss: 12.9328 - val_loss: 22.2343\n",
            "Epoch 32/150\n",
            "\u001b[1m240/240\u001b[0m \u001b[32m━━━━━━━━━━━━━━━━━━━━\u001b[0m\u001b[37m\u001b[0m \u001b[1m2s\u001b[0m 6ms/step - loss: 10.0857 - val_loss: 21.5469\n",
            "Epoch 33/150\n",
            "\u001b[1m240/240\u001b[0m \u001b[32m━━━━━━━━━━━━━━━━━━━━\u001b[0m\u001b[37m\u001b[0m \u001b[1m2s\u001b[0m 7ms/step - loss: 5.8719 - val_loss: 21.0735\n",
            "Epoch 34/150\n",
            "\u001b[1m240/240\u001b[0m \u001b[32m━━━━━━━━━━━━━━━━━━━━\u001b[0m\u001b[37m\u001b[0m \u001b[1m1s\u001b[0m 6ms/step - loss: 19.4746 - val_loss: 21.9072\n",
            "Epoch 35/150\n",
            "\u001b[1m240/240\u001b[0m \u001b[32m━━━━━━━━━━━━━━━━━━━━\u001b[0m\u001b[37m\u001b[0m \u001b[1m3s\u001b[0m 6ms/step - loss: 9.9186 - val_loss: 21.5377\n",
            "Epoch 36/150\n",
            "\u001b[1m240/240\u001b[0m \u001b[32m━━━━━━━━━━━━━━━━━━━━\u001b[0m\u001b[37m\u001b[0m \u001b[1m2s\u001b[0m 6ms/step - loss: 14.6353 - val_loss: 21.2975\n",
            "Epoch 37/150\n",
            "\u001b[1m240/240\u001b[0m \u001b[32m━━━━━━━━━━━━━━━━━━━━\u001b[0m\u001b[37m\u001b[0m \u001b[1m2s\u001b[0m 7ms/step - loss: 11.5986 - val_loss: 21.6274\n",
            "Epoch 38/150\n",
            "\u001b[1m240/240\u001b[0m \u001b[32m━━━━━━━━━━━━━━━━━━━━\u001b[0m\u001b[37m\u001b[0m \u001b[1m1s\u001b[0m 6ms/step - loss: 13.7207 - val_loss: 21.1837\n",
            "Epoch 39/150\n",
            "\u001b[1m240/240\u001b[0m \u001b[32m━━━━━━━━━━━━━━━━━━━━\u001b[0m\u001b[37m\u001b[0m \u001b[1m3s\u001b[0m 8ms/step - loss: 10.7635 - val_loss: 20.8611\n",
            "Epoch 40/150\n",
            "\u001b[1m240/240\u001b[0m \u001b[32m━━━━━━━━━━━━━━━━━━━━\u001b[0m\u001b[37m\u001b[0m \u001b[1m2s\u001b[0m 6ms/step - loss: 8.9443 - val_loss: 19.6346\n",
            "Epoch 41/150\n",
            "\u001b[1m240/240\u001b[0m \u001b[32m━━━━━━━━━━━━━━━━━━━━\u001b[0m\u001b[37m\u001b[0m \u001b[1m3s\u001b[0m 6ms/step - loss: 12.5336 - val_loss: 20.0747\n",
            "Epoch 42/150\n",
            "\u001b[1m240/240\u001b[0m \u001b[32m━━━━━━━━━━━━━━━━━━━━\u001b[0m\u001b[37m\u001b[0m \u001b[1m3s\u001b[0m 7ms/step - loss: 10.3859 - val_loss: 23.5301\n",
            "Epoch 43/150\n",
            "\u001b[1m240/240\u001b[0m \u001b[32m━━━━━━━━━━━━━━━━━━━━\u001b[0m\u001b[37m\u001b[0m \u001b[1m2s\u001b[0m 6ms/step - loss: 8.5050 - val_loss: 20.4472\n",
            "Epoch 44/150\n",
            "\u001b[1m240/240\u001b[0m \u001b[32m━━━━━━━━━━━━━━━━━━━━\u001b[0m\u001b[37m\u001b[0m \u001b[1m2s\u001b[0m 6ms/step - loss: 6.2291 - val_loss: 19.7858\n",
            "Epoch 45/150\n",
            "\u001b[1m240/240\u001b[0m \u001b[32m━━━━━━━━━━━━━━━━━━━━\u001b[0m\u001b[37m\u001b[0m \u001b[1m3s\u001b[0m 7ms/step - loss: 7.9865 - val_loss: 19.5468\n",
            "Epoch 46/150\n",
            "\u001b[1m240/240\u001b[0m \u001b[32m━━━━━━━━━━━━━━━━━━━━\u001b[0m\u001b[37m\u001b[0m \u001b[1m3s\u001b[0m 7ms/step - loss: 11.8994 - val_loss: 22.9596\n",
            "Epoch 47/150\n",
            "\u001b[1m240/240\u001b[0m \u001b[32m━━━━━━━━━━━━━━━━━━━━\u001b[0m\u001b[37m\u001b[0m \u001b[1m3s\u001b[0m 7ms/step - loss: 13.0104 - val_loss: 20.1681\n",
            "Epoch 48/150\n",
            "\u001b[1m240/240\u001b[0m \u001b[32m━━━━━━━━━━━━━━━━━━━━\u001b[0m\u001b[37m\u001b[0m \u001b[1m2s\u001b[0m 7ms/step - loss: 15.5300 - val_loss: 19.3000\n",
            "Epoch 49/150\n",
            "\u001b[1m240/240\u001b[0m \u001b[32m━━━━━━━━━━━━━━━━━━━━\u001b[0m\u001b[37m\u001b[0m \u001b[1m3s\u001b[0m 7ms/step - loss: 23.6560 - val_loss: 21.4875\n",
            "Epoch 50/150\n",
            "\u001b[1m240/240\u001b[0m \u001b[32m━━━━━━━━━━━━━━━━━━━━\u001b[0m\u001b[37m\u001b[0m \u001b[1m2s\u001b[0m 7ms/step - loss: 5.9149 - val_loss: 19.7246\n",
            "Epoch 51/150\n",
            "\u001b[1m240/240\u001b[0m \u001b[32m━━━━━━━━━━━━━━━━━━━━\u001b[0m\u001b[37m\u001b[0m \u001b[1m3s\u001b[0m 7ms/step - loss: 7.5909 - val_loss: 20.5807\n",
            "Epoch 52/150\n",
            "\u001b[1m240/240\u001b[0m \u001b[32m━━━━━━━━━━━━━━━━━━━━\u001b[0m\u001b[37m\u001b[0m \u001b[1m2s\u001b[0m 6ms/step - loss: 6.9346 - val_loss: 18.3248\n",
            "Epoch 53/150\n",
            "\u001b[1m240/240\u001b[0m \u001b[32m━━━━━━━━━━━━━━━━━━━━\u001b[0m\u001b[37m\u001b[0m \u001b[1m2s\u001b[0m 7ms/step - loss: 10.2761 - val_loss: 25.4282\n",
            "Epoch 54/150\n",
            "\u001b[1m240/240\u001b[0m \u001b[32m━━━━━━━━━━━━━━━━━━━━\u001b[0m\u001b[37m\u001b[0m \u001b[1m3s\u001b[0m 7ms/step - loss: 7.2462 - val_loss: 22.9417\n",
            "Epoch 55/150\n",
            "\u001b[1m240/240\u001b[0m \u001b[32m━━━━━━━━━━━━━━━━━━━━\u001b[0m\u001b[37m\u001b[0m \u001b[1m1s\u001b[0m 6ms/step - loss: 8.2157 - val_loss: 28.3290\n",
            "Epoch 56/150\n",
            "\u001b[1m240/240\u001b[0m \u001b[32m━━━━━━━━━━━━━━━━━━━━\u001b[0m\u001b[37m\u001b[0m \u001b[1m3s\u001b[0m 7ms/step - loss: 17.7184 - val_loss: 21.0441\n",
            "Epoch 57/150\n",
            "\u001b[1m240/240\u001b[0m \u001b[32m━━━━━━━━━━━━━━━━━━━━\u001b[0m\u001b[37m\u001b[0m \u001b[1m3s\u001b[0m 7ms/step - loss: 7.0166 - val_loss: 21.6721\n",
            "Epoch 58/150\n",
            "\u001b[1m240/240\u001b[0m \u001b[32m━━━━━━━━━━━━━━━━━━━━\u001b[0m\u001b[37m\u001b[0m \u001b[1m1s\u001b[0m 6ms/step - loss: 10.5470 - val_loss: 20.2469\n",
            "Epoch 59/150\n",
            "\u001b[1m240/240\u001b[0m \u001b[32m━━━━━━━━━━━━━━━━━━━━\u001b[0m\u001b[37m\u001b[0m \u001b[1m3s\u001b[0m 6ms/step - loss: 6.7684 - val_loss: 25.5711\n",
            "Epoch 60/150\n",
            "\u001b[1m240/240\u001b[0m \u001b[32m━━━━━━━━━━━━━━━━━━━━\u001b[0m\u001b[37m\u001b[0m \u001b[1m3s\u001b[0m 7ms/step - loss: 15.2263 - val_loss: 20.7861\n",
            "Epoch 61/150\n",
            "\u001b[1m240/240\u001b[0m \u001b[32m━━━━━━━━━━━━━━━━━━━━\u001b[0m\u001b[37m\u001b[0m \u001b[1m1s\u001b[0m 6ms/step - loss: 4.6490 - val_loss: 35.5148\n",
            "Epoch 62/150\n",
            "\u001b[1m240/240\u001b[0m \u001b[32m━━━━━━━━━━━━━━━━━━━━\u001b[0m\u001b[37m\u001b[0m \u001b[1m2s\u001b[0m 6ms/step - loss: 14.1336 - val_loss: 20.0694\n",
            "Epoch 63/150\n",
            "\u001b[1m240/240\u001b[0m \u001b[32m━━━━━━━━━━━━━━━━━━━━\u001b[0m\u001b[37m\u001b[0m \u001b[1m3s\u001b[0m 6ms/step - loss: 7.4612 - val_loss: 29.9550\n",
            "Epoch 64/150\n",
            "\u001b[1m240/240\u001b[0m \u001b[32m━━━━━━━━━━━━━━━━━━━━\u001b[0m\u001b[37m\u001b[0m \u001b[1m3s\u001b[0m 6ms/step - loss: 17.0214 - val_loss: 25.8451\n",
            "Epoch 65/150\n",
            "\u001b[1m240/240\u001b[0m \u001b[32m━━━━━━━━━━━━━━━━━━━━\u001b[0m\u001b[37m\u001b[0m \u001b[1m2s\u001b[0m 6ms/step - loss: 7.7809 - val_loss: 19.6509\n",
            "Epoch 66/150\n",
            "\u001b[1m240/240\u001b[0m \u001b[32m━━━━━━━━━━━━━━━━━━━━\u001b[0m\u001b[37m\u001b[0m \u001b[1m2s\u001b[0m 6ms/step - loss: 7.2142 - val_loss: 22.6591\n",
            "Epoch 67/150\n",
            "\u001b[1m240/240\u001b[0m \u001b[32m━━━━━━━━━━━━━━━━━━━━\u001b[0m\u001b[37m\u001b[0m \u001b[1m3s\u001b[0m 7ms/step - loss: 14.5252 - val_loss: 19.1129\n",
            "Epoch 68/150\n",
            "\u001b[1m240/240\u001b[0m \u001b[32m━━━━━━━━━━━━━━━━━━━━\u001b[0m\u001b[37m\u001b[0m \u001b[1m2s\u001b[0m 7ms/step - loss: 6.5223 - val_loss: 20.2813\n",
            "Epoch 69/150\n",
            "\u001b[1m240/240\u001b[0m \u001b[32m━━━━━━━━━━━━━━━━━━━━\u001b[0m\u001b[37m\u001b[0m \u001b[1m2s\u001b[0m 6ms/step - loss: 5.5802 - val_loss: 21.7636\n",
            "Epoch 70/150\n",
            "\u001b[1m240/240\u001b[0m \u001b[32m━━━━━━━━━━━━━━━━━━━━\u001b[0m\u001b[37m\u001b[0m \u001b[1m3s\u001b[0m 6ms/step - loss: 10.2019 - val_loss: 18.7254\n",
            "Epoch 71/150\n",
            "\u001b[1m240/240\u001b[0m \u001b[32m━━━━━━━━━━━━━━━━━━━━\u001b[0m\u001b[37m\u001b[0m \u001b[1m2s\u001b[0m 6ms/step - loss: 12.2043 - val_loss: 21.6433\n",
            "Epoch 72/150\n",
            "\u001b[1m240/240\u001b[0m \u001b[32m━━━━━━━━━━━━━━━━━━━━\u001b[0m\u001b[37m\u001b[0m \u001b[1m3s\u001b[0m 7ms/step - loss: 9.5701 - val_loss: 18.5151\n",
            "Epoch 73/150\n",
            "\u001b[1m240/240\u001b[0m \u001b[32m━━━━━━━━━━━━━━━━━━━━\u001b[0m\u001b[37m\u001b[0m \u001b[1m2s\u001b[0m 7ms/step - loss: 6.1205 - val_loss: 18.9432\n",
            "Epoch 74/150\n",
            "\u001b[1m240/240\u001b[0m \u001b[32m━━━━━━━━━━━━━━━━━━━━\u001b[0m\u001b[37m\u001b[0m \u001b[1m2s\u001b[0m 7ms/step - loss: 6.6673 - val_loss: 19.0029\n",
            "Epoch 75/150\n",
            "\u001b[1m240/240\u001b[0m \u001b[32m━━━━━━━━━━━━━━━━━━━━\u001b[0m\u001b[37m\u001b[0m \u001b[1m3s\u001b[0m 7ms/step - loss: 8.2677 - val_loss: 20.2023\n",
            "Epoch 76/150\n",
            "\u001b[1m240/240\u001b[0m \u001b[32m━━━━━━━━━━━━━━━━━━━━\u001b[0m\u001b[37m\u001b[0m \u001b[1m2s\u001b[0m 7ms/step - loss: 11.4945 - val_loss: 18.0445\n",
            "Epoch 77/150\n",
            "\u001b[1m240/240\u001b[0m \u001b[32m━━━━━━━━━━━━━━━━━━━━\u001b[0m\u001b[37m\u001b[0m \u001b[1m2s\u001b[0m 6ms/step - loss: 10.8966 - val_loss: 18.6716\n",
            "Epoch 78/150\n",
            "\u001b[1m240/240\u001b[0m \u001b[32m━━━━━━━━━━━━━━━━━━━━\u001b[0m\u001b[37m\u001b[0m \u001b[1m3s\u001b[0m 7ms/step - loss: 14.8539 - val_loss: 18.9153\n",
            "Epoch 79/150\n",
            "\u001b[1m240/240\u001b[0m \u001b[32m━━━━━━━━━━━━━━━━━━━━\u001b[0m\u001b[37m\u001b[0m \u001b[1m1s\u001b[0m 6ms/step - loss: 6.9887 - val_loss: 25.8894\n",
            "Epoch 80/150\n",
            "\u001b[1m240/240\u001b[0m \u001b[32m━━━━━━━━━━━━━━━━━━━━\u001b[0m\u001b[37m\u001b[0m \u001b[1m3s\u001b[0m 7ms/step - loss: 16.5067 - val_loss: 17.8929\n",
            "Epoch 81/150\n",
            "\u001b[1m240/240\u001b[0m \u001b[32m━━━━━━━━━━━━━━━━━━━━\u001b[0m\u001b[37m\u001b[0m \u001b[1m3s\u001b[0m 8ms/step - loss: 8.8250 - val_loss: 18.0898\n",
            "Epoch 82/150\n",
            "\u001b[1m240/240\u001b[0m \u001b[32m━━━━━━━━━━━━━━━━━━━━\u001b[0m\u001b[37m\u001b[0m \u001b[1m2s\u001b[0m 7ms/step - loss: 9.0116 - val_loss: 25.0614\n",
            "Epoch 83/150\n",
            "\u001b[1m240/240\u001b[0m \u001b[32m━━━━━━━━━━━━━━━━━━━━\u001b[0m\u001b[37m\u001b[0m \u001b[1m2s\u001b[0m 7ms/step - loss: 20.1116 - val_loss: 17.4234\n",
            "Epoch 84/150\n",
            "\u001b[1m240/240\u001b[0m \u001b[32m━━━━━━━━━━━━━━━━━━━━\u001b[0m\u001b[37m\u001b[0m \u001b[1m2s\u001b[0m 7ms/step - loss: 8.4691 - val_loss: 19.1647\n",
            "Epoch 85/150\n",
            "\u001b[1m240/240\u001b[0m \u001b[32m━━━━━━━━━━━━━━━━━━━━\u001b[0m\u001b[37m\u001b[0m \u001b[1m2s\u001b[0m 6ms/step - loss: 8.5560 - val_loss: 19.8813\n",
            "Epoch 86/150\n",
            "\u001b[1m240/240\u001b[0m \u001b[32m━━━━━━━━━━━━━━━━━━━━\u001b[0m\u001b[37m\u001b[0m \u001b[1m2s\u001b[0m 7ms/step - loss: 20.4686 - val_loss: 17.2839\n",
            "Epoch 87/150\n",
            "\u001b[1m240/240\u001b[0m \u001b[32m━━━━━━━━━━━━━━━━━━━━\u001b[0m\u001b[37m\u001b[0m \u001b[1m3s\u001b[0m 7ms/step - loss: 3.6168 - val_loss: 18.7495\n",
            "Epoch 88/150\n",
            "\u001b[1m240/240\u001b[0m \u001b[32m━━━━━━━━━━━━━━━━━━━━\u001b[0m\u001b[37m\u001b[0m \u001b[1m3s\u001b[0m 7ms/step - loss: 6.8105 - val_loss: 17.5095\n",
            "Epoch 89/150\n",
            "\u001b[1m240/240\u001b[0m \u001b[32m━━━━━━━━━━━━━━━━━━━━\u001b[0m\u001b[37m\u001b[0m \u001b[1m2s\u001b[0m 7ms/step - loss: 19.0605 - val_loss: 17.1090\n",
            "Epoch 90/150\n",
            "\u001b[1m240/240\u001b[0m \u001b[32m━━━━━━━━━━━━━━━━━━━━\u001b[0m\u001b[37m\u001b[0m \u001b[1m3s\u001b[0m 7ms/step - loss: 8.6979 - val_loss: 16.9021\n",
            "Epoch 91/150\n",
            "\u001b[1m240/240\u001b[0m \u001b[32m━━━━━━━━━━━━━━━━━━━━\u001b[0m\u001b[37m\u001b[0m \u001b[1m3s\u001b[0m 7ms/step - loss: 4.0063 - val_loss: 22.7031\n",
            "Epoch 92/150\n",
            "\u001b[1m240/240\u001b[0m \u001b[32m━━━━━━━━━━━━━━━━━━━━\u001b[0m\u001b[37m\u001b[0m \u001b[1m2s\u001b[0m 7ms/step - loss: 7.2772 - val_loss: 19.5696\n",
            "Epoch 93/150\n",
            "\u001b[1m240/240\u001b[0m \u001b[32m━━━━━━━━━━━━━━━━━━━━\u001b[0m\u001b[37m\u001b[0m \u001b[1m3s\u001b[0m 7ms/step - loss: 5.4133 - val_loss: 17.6857\n",
            "Epoch 94/150\n",
            "\u001b[1m240/240\u001b[0m \u001b[32m━━━━━━━━━━━━━━━━━━━━\u001b[0m\u001b[37m\u001b[0m \u001b[1m1s\u001b[0m 6ms/step - loss: 6.6672 - val_loss: 17.5131\n",
            "Epoch 95/150\n",
            "\u001b[1m240/240\u001b[0m \u001b[32m━━━━━━━━━━━━━━━━━━━━\u001b[0m\u001b[37m\u001b[0m \u001b[1m2s\u001b[0m 6ms/step - loss: 8.1936 - val_loss: 19.0967\n",
            "Epoch 96/150\n",
            "\u001b[1m240/240\u001b[0m \u001b[32m━━━━━━━━━━━━━━━━━━━━\u001b[0m\u001b[37m\u001b[0m \u001b[1m3s\u001b[0m 7ms/step - loss: 7.7946 - val_loss: 20.5055\n",
            "Epoch 97/150\n",
            "\u001b[1m240/240\u001b[0m \u001b[32m━━━━━━━━━━━━━━━━━━━━\u001b[0m\u001b[37m\u001b[0m \u001b[1m2s\u001b[0m 7ms/step - loss: 32.2306 - val_loss: 17.7251\n",
            "Epoch 98/150\n",
            "\u001b[1m240/240\u001b[0m \u001b[32m━━━━━━━━━━━━━━━━━━━━\u001b[0m\u001b[37m\u001b[0m \u001b[1m1s\u001b[0m 6ms/step - loss: 4.8375 - val_loss: 19.4396\n",
            "Epoch 99/150\n",
            "\u001b[1m240/240\u001b[0m \u001b[32m━━━━━━━━━━━━━━━━━━━━\u001b[0m\u001b[37m\u001b[0m \u001b[1m2s\u001b[0m 7ms/step - loss: 9.3218 - val_loss: 17.9177\n",
            "Epoch 100/150\n",
            "\u001b[1m240/240\u001b[0m \u001b[32m━━━━━━━━━━━━━━━━━━━━\u001b[0m\u001b[37m\u001b[0m \u001b[1m2s\u001b[0m 7ms/step - loss: 14.9189 - val_loss: 17.3644\n",
            "Epoch 101/150\n",
            "\u001b[1m240/240\u001b[0m \u001b[32m━━━━━━━━━━━━━━━━━━━━\u001b[0m\u001b[37m\u001b[0m \u001b[1m2s\u001b[0m 7ms/step - loss: 8.2178 - val_loss: 18.5816\n",
            "Epoch 102/150\n",
            "\u001b[1m240/240\u001b[0m \u001b[32m━━━━━━━━━━━━━━━━━━━━\u001b[0m\u001b[37m\u001b[0m \u001b[1m3s\u001b[0m 6ms/step - loss: 10.5076 - val_loss: 16.8949\n",
            "Epoch 103/150\n",
            "\u001b[1m240/240\u001b[0m \u001b[32m━━━━━━━━━━━━━━━━━━━━\u001b[0m\u001b[37m\u001b[0m \u001b[1m2s\u001b[0m 7ms/step - loss: 18.6456 - val_loss: 22.3681\n",
            "Epoch 104/150\n",
            "\u001b[1m240/240\u001b[0m \u001b[32m━━━━━━━━━━━━━━━━━━━━\u001b[0m\u001b[37m\u001b[0m \u001b[1m2s\u001b[0m 7ms/step - loss: 9.0448 - val_loss: 17.1913\n",
            "Epoch 105/150\n",
            "\u001b[1m240/240\u001b[0m \u001b[32m━━━━━━━━━━━━━━━━━━━━\u001b[0m\u001b[37m\u001b[0m \u001b[1m1s\u001b[0m 6ms/step - loss: 15.4001 - val_loss: 16.6109\n",
            "Epoch 106/150\n",
            "\u001b[1m240/240\u001b[0m \u001b[32m━━━━━━━━━━━━━━━━━━━━\u001b[0m\u001b[37m\u001b[0m \u001b[1m3s\u001b[0m 7ms/step - loss: 14.8556 - val_loss: 17.9799\n",
            "Epoch 107/150\n",
            "\u001b[1m240/240\u001b[0m \u001b[32m━━━━━━━━━━━━━━━━━━━━\u001b[0m\u001b[37m\u001b[0m \u001b[1m2s\u001b[0m 6ms/step - loss: 20.6600 - val_loss: 16.7091\n",
            "Epoch 108/150\n",
            "\u001b[1m240/240\u001b[0m \u001b[32m━━━━━━━━━━━━━━━━━━━━\u001b[0m\u001b[37m\u001b[0m \u001b[1m2s\u001b[0m 6ms/step - loss: 5.4212 - val_loss: 16.7087\n",
            "Epoch 109/150\n",
            "\u001b[1m240/240\u001b[0m \u001b[32m━━━━━━━━━━━━━━━━━━━━\u001b[0m\u001b[37m\u001b[0m \u001b[1m1s\u001b[0m 6ms/step - loss: 15.8589 - val_loss: 16.5096\n",
            "Epoch 110/150\n",
            "\u001b[1m240/240\u001b[0m \u001b[32m━━━━━━━━━━━━━━━━━━━━\u001b[0m\u001b[37m\u001b[0m \u001b[1m2s\u001b[0m 7ms/step - loss: 4.2435 - val_loss: 27.7924\n",
            "Epoch 111/150\n",
            "\u001b[1m240/240\u001b[0m \u001b[32m━━━━━━━━━━━━━━━━━━━━\u001b[0m\u001b[37m\u001b[0m \u001b[1m2s\u001b[0m 7ms/step - loss: 20.9759 - val_loss: 17.8033\n",
            "Epoch 112/150\n",
            "\u001b[1m240/240\u001b[0m \u001b[32m━━━━━━━━━━━━━━━━━━━━\u001b[0m\u001b[37m\u001b[0m \u001b[1m2s\u001b[0m 7ms/step - loss: 10.8648 - val_loss: 16.6505\n",
            "Epoch 113/150\n",
            "\u001b[1m240/240\u001b[0m \u001b[32m━━━━━━━━━━━━━━━━━━━━\u001b[0m\u001b[37m\u001b[0m \u001b[1m2s\u001b[0m 7ms/step - loss: 16.8853 - val_loss: 16.4249\n",
            "Epoch 114/150\n",
            "\u001b[1m240/240\u001b[0m \u001b[32m━━━━━━━━━━━━━━━━━━━━\u001b[0m\u001b[37m\u001b[0m \u001b[1m3s\u001b[0m 7ms/step - loss: 11.4026 - val_loss: 16.0771\n",
            "Epoch 115/150\n",
            "\u001b[1m240/240\u001b[0m \u001b[32m━━━━━━━━━━━━━━━━━━━━\u001b[0m\u001b[37m\u001b[0m \u001b[1m2s\u001b[0m 6ms/step - loss: 5.1165 - val_loss: 21.2633\n",
            "Epoch 116/150\n",
            "\u001b[1m240/240\u001b[0m \u001b[32m━━━━━━━━━━━━━━━━━━━━\u001b[0m\u001b[37m\u001b[0m \u001b[1m2s\u001b[0m 6ms/step - loss: 14.8768 - val_loss: 17.1442\n",
            "Epoch 117/150\n",
            "\u001b[1m240/240\u001b[0m \u001b[32m━━━━━━━━━━━━━━━━━━━━\u001b[0m\u001b[37m\u001b[0m \u001b[1m2s\u001b[0m 6ms/step - loss: 8.2183 - val_loss: 16.1868\n",
            "Epoch 118/150\n",
            "\u001b[1m240/240\u001b[0m \u001b[32m━━━━━━━━━━━━━━━━━━━━\u001b[0m\u001b[37m\u001b[0m \u001b[1m3s\u001b[0m 6ms/step - loss: 5.8684 - val_loss: 16.1446\n",
            "Epoch 119/150\n",
            "\u001b[1m240/240\u001b[0m \u001b[32m━━━━━━━━━━━━━━━━━━━━\u001b[0m\u001b[37m\u001b[0m \u001b[1m2s\u001b[0m 7ms/step - loss: 6.6719 - val_loss: 15.4908\n",
            "Epoch 120/150\n",
            "\u001b[1m240/240\u001b[0m \u001b[32m━━━━━━━━━━━━━━━━━━━━\u001b[0m\u001b[37m\u001b[0m \u001b[1m1s\u001b[0m 6ms/step - loss: 8.5491 - val_loss: 15.6009\n",
            "Epoch 121/150\n",
            "\u001b[1m240/240\u001b[0m \u001b[32m━━━━━━━━━━━━━━━━━━━━\u001b[0m\u001b[37m\u001b[0m \u001b[1m3s\u001b[0m 6ms/step - loss: 7.8906 - val_loss: 15.8747\n",
            "Epoch 122/150\n",
            "\u001b[1m240/240\u001b[0m \u001b[32m━━━━━━━━━━━━━━━━━━━━\u001b[0m\u001b[37m\u001b[0m \u001b[1m2s\u001b[0m 7ms/step - loss: 2.3428 - val_loss: 19.4087\n",
            "Epoch 123/150\n",
            "\u001b[1m240/240\u001b[0m \u001b[32m━━━━━━━━━━━━━━━━━━━━\u001b[0m\u001b[37m\u001b[0m \u001b[1m2s\u001b[0m 6ms/step - loss: 8.8701 - val_loss: 17.6951\n",
            "Epoch 124/150\n",
            "\u001b[1m240/240\u001b[0m \u001b[32m━━━━━━━━━━━━━━━━━━━━\u001b[0m\u001b[37m\u001b[0m \u001b[1m2s\u001b[0m 6ms/step - loss: 7.5967 - val_loss: 17.9837\n",
            "Epoch 125/150\n",
            "\u001b[1m240/240\u001b[0m \u001b[32m━━━━━━━━━━━━━━━━━━━━\u001b[0m\u001b[37m\u001b[0m \u001b[1m2s\u001b[0m 7ms/step - loss: 5.3449 - val_loss: 15.2702\n",
            "Epoch 126/150\n",
            "\u001b[1m240/240\u001b[0m \u001b[32m━━━━━━━━━━━━━━━━━━━━\u001b[0m\u001b[37m\u001b[0m \u001b[1m2s\u001b[0m 6ms/step - loss: 6.8470 - val_loss: 14.8090\n",
            "Epoch 127/150\n",
            "\u001b[1m240/240\u001b[0m \u001b[32m━━━━━━━━━━━━━━━━━━━━\u001b[0m\u001b[37m\u001b[0m \u001b[1m3s\u001b[0m 6ms/step - loss: 5.6227 - val_loss: 14.9196\n",
            "Epoch 128/150\n",
            "\u001b[1m240/240\u001b[0m \u001b[32m━━━━━━━━━━━━━━━━━━━━\u001b[0m\u001b[37m\u001b[0m \u001b[1m3s\u001b[0m 7ms/step - loss: 5.7381 - val_loss: 16.0395\n",
            "Epoch 129/150\n",
            "\u001b[1m240/240\u001b[0m \u001b[32m━━━━━━━━━━━━━━━━━━━━\u001b[0m\u001b[37m\u001b[0m \u001b[1m2s\u001b[0m 6ms/step - loss: 8.6806 - val_loss: 15.5761\n",
            "Epoch 130/150\n",
            "\u001b[1m240/240\u001b[0m \u001b[32m━━━━━━━━━━━━━━━━━━━━\u001b[0m\u001b[37m\u001b[0m \u001b[1m2s\u001b[0m 7ms/step - loss: 6.9143 - val_loss: 16.7032\n",
            "Epoch 131/150\n",
            "\u001b[1m240/240\u001b[0m \u001b[32m━━━━━━━━━━━━━━━━━━━━\u001b[0m\u001b[37m\u001b[0m \u001b[1m3s\u001b[0m 6ms/step - loss: 20.4925 - val_loss: 14.5295\n",
            "Epoch 132/150\n",
            "\u001b[1m240/240\u001b[0m \u001b[32m━━━━━━━━━━━━━━━━━━━━\u001b[0m\u001b[37m\u001b[0m \u001b[1m2s\u001b[0m 7ms/step - loss: 4.4786 - val_loss: 14.4055\n",
            "Epoch 133/150\n",
            "\u001b[1m240/240\u001b[0m \u001b[32m━━━━━━━━━━━━━━━━━━━━\u001b[0m\u001b[37m\u001b[0m \u001b[1m3s\u001b[0m 7ms/step - loss: 3.0292 - val_loss: 17.4564\n",
            "Epoch 134/150\n",
            "\u001b[1m240/240\u001b[0m \u001b[32m━━━━━━━━━━━━━━━━━━━━\u001b[0m\u001b[37m\u001b[0m \u001b[1m2s\u001b[0m 6ms/step - loss: 15.1928 - val_loss: 17.2477\n",
            "Epoch 135/150\n",
            "\u001b[1m240/240\u001b[0m \u001b[32m━━━━━━━━━━━━━━━━━━━━\u001b[0m\u001b[37m\u001b[0m \u001b[1m2s\u001b[0m 7ms/step - loss: 4.2234 - val_loss: 15.5818\n",
            "Epoch 136/150\n",
            "\u001b[1m240/240\u001b[0m \u001b[32m━━━━━━━━━━━━━━━━━━━━\u001b[0m\u001b[37m\u001b[0m \u001b[1m2s\u001b[0m 6ms/step - loss: 7.6015 - val_loss: 14.1389\n",
            "Epoch 137/150\n",
            "\u001b[1m240/240\u001b[0m \u001b[32m━━━━━━━━━━━━━━━━━━━━\u001b[0m\u001b[37m\u001b[0m \u001b[1m2s\u001b[0m 7ms/step - loss: 13.0252 - val_loss: 14.1149\n",
            "Epoch 138/150\n",
            "\u001b[1m240/240\u001b[0m \u001b[32m━━━━━━━━━━━━━━━━━━━━\u001b[0m\u001b[37m\u001b[0m \u001b[1m3s\u001b[0m 7ms/step - loss: 8.7036 - val_loss: 18.0665\n",
            "Epoch 139/150\n",
            "\u001b[1m240/240\u001b[0m \u001b[32m━━━━━━━━━━━━━━━━━━━━\u001b[0m\u001b[37m\u001b[0m \u001b[1m2s\u001b[0m 6ms/step - loss: 8.3332 - val_loss: 14.2618\n",
            "Epoch 140/150\n",
            "\u001b[1m240/240\u001b[0m \u001b[32m━━━━━━━━━━━━━━━━━━━━\u001b[0m\u001b[37m\u001b[0m \u001b[1m3s\u001b[0m 7ms/step - loss: 7.3229 - val_loss: 14.1650\n",
            "Epoch 141/150\n",
            "\u001b[1m240/240\u001b[0m \u001b[32m━━━━━━━━━━━━━━━━━━━━\u001b[0m\u001b[37m\u001b[0m \u001b[1m2s\u001b[0m 6ms/step - loss: 8.7026 - val_loss: 13.8550\n",
            "Epoch 142/150\n",
            "\u001b[1m240/240\u001b[0m \u001b[32m━━━━━━━━━━━━━━━━━━━━\u001b[0m\u001b[37m\u001b[0m \u001b[1m2s\u001b[0m 6ms/step - loss: 4.7423 - val_loss: 14.7748\n",
            "Epoch 143/150\n",
            "\u001b[1m240/240\u001b[0m \u001b[32m━━━━━━━━━━━━━━━━━━━━\u001b[0m\u001b[37m\u001b[0m \u001b[1m3s\u001b[0m 6ms/step - loss: 4.5986 - val_loss: 14.6091\n",
            "Epoch 144/150\n",
            "\u001b[1m240/240\u001b[0m \u001b[32m━━━━━━━━━━━━━━━━━━━━\u001b[0m\u001b[37m\u001b[0m \u001b[1m3s\u001b[0m 7ms/step - loss: 4.9186 - val_loss: 14.1014\n",
            "Epoch 145/150\n",
            "\u001b[1m240/240\u001b[0m \u001b[32m━━━━━━━━━━━━━━━━━━━━\u001b[0m\u001b[37m\u001b[0m \u001b[1m1s\u001b[0m 6ms/step - loss: 13.6559 - val_loss: 13.8191\n",
            "Epoch 146/150\n",
            "\u001b[1m240/240\u001b[0m \u001b[32m━━━━━━━━━━━━━━━━━━━━\u001b[0m\u001b[37m\u001b[0m \u001b[1m2s\u001b[0m 4ms/step - loss: 4.8933 - val_loss: 14.2011\n",
            "Epoch 147/150\n",
            "\u001b[1m240/240\u001b[0m \u001b[32m━━━━━━━━━━━━━━━━━━━━\u001b[0m\u001b[37m\u001b[0m \u001b[1m1s\u001b[0m 4ms/step - loss: 4.2756 - val_loss: 13.6101\n",
            "Epoch 148/150\n",
            "\u001b[1m240/240\u001b[0m \u001b[32m━━━━━━━━━━━━━━━━━━━━\u001b[0m\u001b[37m\u001b[0m \u001b[1m1s\u001b[0m 4ms/step - loss: 14.8318 - val_loss: 15.7523\n",
            "Epoch 149/150\n",
            "\u001b[1m240/240\u001b[0m \u001b[32m━━━━━━━━━━━━━━━━━━━━\u001b[0m\u001b[37m\u001b[0m \u001b[1m1s\u001b[0m 4ms/step - loss: 5.8878 - val_loss: 14.4122\n",
            "Epoch 150/150\n",
            "\u001b[1m240/240\u001b[0m \u001b[32m━━━━━━━━━━━━━━━━━━━━\u001b[0m\u001b[37m\u001b[0m \u001b[1m1s\u001b[0m 4ms/step - loss: 9.4674 - val_loss: 13.5627\n"
          ]
        },
        {
          "data": {
            "image/png": "[encoded data removed]",
            "text/plain": [
              "<Figure size 640x480 with 1 Axes>"
            ]
          },
          "metadata": {},
          "output_type": "display_data"
        }
      ],
      "source": [
        "# Train the LSTM model\n",
        "history = model.fit(X_train_lstm, y_train_lstm, epochs=150, batch_size=14, validation_split=0.2, verbose=1)\n",
        "# You can adjust epochs, batch_size, and validation_split\n",
        "\n",
        "# Optional: Plot training history to see loss over epochs\n",
        "import matplotlib.pyplot as plt\n",
        "\n",
        "plt.plot(history.history['loss'], label='train')\n",
        "plt.plot(history.history['val_loss'], label='validation')\n",
        "plt.title('LSTM Model Loss')\n",
        "plt.xlabel('Epoch')\n",
        "plt.ylabel('Loss')\n",
        "plt.legend()\n",
        "plt.show()"
      ]
    },
    {
      "cell_type": "code",
      "execution_count": 11,
      "metadata": {
        "colab": {
          "base_uri": "https://localhost:8080/"
        },
        "id": "nkgfuB66bIyn",
        "outputId": "c20ea666-3a03-4030-8deb-35326a44bc09"
      },
      "outputs": [
        {
          "name": "stdout",
          "output_type": "stream",
          "text": [
            "(4186, 11) (1795, 11) (4186,) (1795,)\n"
          ]
        }
      ],
      "source": [
        "# can't use this due to the data being temporally dependent, so cannot randomize the dataset. implement a different method above.\n",
        "# # test train data\n",
        "# from sklearn.model_selection import train_test_split\n",
        "\n",
        "# drop = [\"Closing Price\", \"Opening Price\", \"High Price\", \"Timestamp\", \"No of Shares\", \"NextValue\"]\n",
        "# df = stockDataCopy.copy()\n",
        "# X = df.drop(drop, axis=1)\n",
        "# y = df[\"NextValue\"]\n",
        "# x_train, x_test, y_train, y_test = train_test_split(X, y, test_size=0.3, random_state=42)\n",
        "# print(x_train.shape, x_test.shape, y_train.shape, y_test.shape)"
      ]
    },
    {
      "cell_type": "code",
      "execution_count": 11,
      "metadata": {
        "colab": {
          "base_uri": "https://localhost:8080/"
        },
        "id": "tboAhDySxBFl",
        "outputId": "c8882d3f-6282-4b8a-bb09-d66ee3ebf42f"
      },
      "outputs": [
        {
          "data": {
            "text/plain": [
              "(    Low Price  Low Price Lag 1  Low Price Lag 2  Low Price Lag 3  \\\n",
              " 10     448.60           448.14           448.46           448.00   \n",
              " 11     448.63           448.60           448.14           448.46   \n",
              " 12     449.65           448.63           448.60           448.14   \n",
              " 13     450.16           449.65           448.63           448.60   \n",
              " 14     451.53           450.16           449.65           448.63   \n",
              " \n",
              "     Low Price Lag 4  Low Price Lag 5  Low Price Lag 6  Low Price Lag 7  \\\n",
              " 10           448.25           448.17           447.72           446.90   \n",
              " 11           448.00           448.25           448.17           447.72   \n",
              " 12           448.46           448.00           448.25           448.17   \n",
              " 13           448.14           448.46           448.00           448.25   \n",
              " 14           448.60           448.14           448.46           448.00   \n",
              " \n",
              "     Low Price Lag 8  Low Price Lag 9  Low Price Lag 10  \n",
              " 10           445.61           444.79            444.70  \n",
              " 11           446.90           445.61            444.79  \n",
              " 12           447.72           446.90            445.61  \n",
              " 13           448.17           447.72            446.90  \n",
              " 14           448.25           448.17            447.72  ,\n",
              " 10    448.63\n",
              " 11    449.65\n",
              " 12    450.16\n",
              " 13    451.53\n",
              " 14    452.25\n",
              " Name: NextValue, dtype: float64)"
            ]
          },
          "execution_count": 11,
          "metadata": {},
          "output_type": "execute_result"
        }
      ],
      "source": [
        "X.head(), y.head()"
      ]
    },
    {
      "cell_type": "code",
      "execution_count": 12,
      "metadata": {},
      "outputs": [
        {
          "name": "stdout",
          "output_type": "stream",
          "text": [
            "(1795, 11, 1)\n",
            "(None, 11, 1)\n"
          ]
        }
      ],
      "source": [
        "print(X_test_lstm.shape)\n",
        "print(model.input_shape)\n"
      ]
    },
    {
      "cell_type": "code",
      "execution_count": 1,
      "metadata": {},
      "outputs": [
        {
          "ename": "NameError",
          "evalue": "name 'model' is not defined",
          "output_type": "error",
          "traceback": [
            "\u001b[0;31m---------------------------------------------------------------------------\u001b[0m",
            "\u001b[0;31mNameError\u001b[0m                                 Traceback (most recent call last)",
            "Cell \u001b[0;32mIn[1], line 1\u001b[0m\n\u001b[0;32m----> 1\u001b[0m \u001b[43mmodel\u001b[49m\u001b[38;5;241m.\u001b[39mpredict(X_test_lstm)\n",
            "\u001b[0;31mNameError\u001b[0m: name 'model' is not defined"
          ]
        }
      ],
      "source": [
        "model.predict(X_test_lstm)"
      ]
    },
    {
      "cell_type": "code",
      "execution_count": 13,
      "metadata": {
        "colab": {
          "base_uri": "https://localhost:8080/"
        },
        "id": "zRSrQ6zYZ3SW",
        "outputId": "a0a94d0f-d760-476a-f87a-0c7457704df3"
      },
      "outputs": [
        {
          "name": "stdout",
          "output_type": "stream",
          "text": [
            "LSTM Test Loss (MSE): 3.39363431930542\n"
          ]
        },
        {
          "data": {
            "text/html": [
              "<pre style=\"white-space:pre;overflow-x:auto;line-height:normal;font-family:Menlo,'DejaVu Sans Mono',consolas,'Courier New',monospace\"><span style=\"font-weight: bold\">Model: \"sequential\"</span>\n",
              "</pre>\n"
            ],
            "text/plain": [
              "\u001b[1mModel: \"sequential\"\u001b[0m\n"
            ]
          },
          "metadata": {},
          "output_type": "display_data"
        },
        {
          "data": {
            "text/html": [
              "<pre style=\"white-space:pre;overflow-x:auto;line-height:normal;font-family:Menlo,'DejaVu Sans Mono',consolas,'Courier New',monospace\">┏━━━━━━━━━━━━━━━━━━━━━━━━━━━━━━━━━┳━━━━━━━━━━━━━━━━━━━━━━━━┳━━━━━━━━━━━━━━━┓\n",
              "┃<span style=\"font-weight: bold\"> Layer (type)                    </span>┃<span style=\"font-weight: bold\"> Output Shape           </span>┃<span style=\"font-weight: bold\">       Param # </span>┃\n",
              "┡━━━━━━━━━━━━━━━━━━━━━━━━━━━━━━━━━╇━━━━━━━━━━━━━━━━━━━━━━━━╇━━━━━━━━━━━━━━━┩\n",
              "│ lstm (<span style=\"color: #0087ff; text-decoration-color: #0087ff\">LSTM</span>)                     │ (<span style=\"color: #00d7ff; text-decoration-color: #00d7ff\">None</span>, <span style=\"color: #00af00; text-decoration-color: #00af00\">50</span>)             │        <span style=\"color: #00af00; text-decoration-color: #00af00\">10,400</span> │\n",
              "├─────────────────────────────────┼────────────────────────┼───────────────┤\n",
              "│ dense (<span style=\"color: #0087ff; text-decoration-color: #0087ff\">Dense</span>)                   │ (<span style=\"color: #00d7ff; text-decoration-color: #00d7ff\">None</span>, <span style=\"color: #00af00; text-decoration-color: #00af00\">1</span>)              │            <span style=\"color: #00af00; text-decoration-color: #00af00\">51</span> │\n",
              "└─────────────────────────────────┴────────────────────────┴───────────────┘\n",
              "</pre>\n"
            ],
            "text/plain": [
              "┏━━━━━━━━━━━━━━━━━━━━━━━━━━━━━━━━━┳━━━━━━━━━━━━━━━━━━━━━━━━┳━━━━━━━━━━━━━━━┓\n",
              "┃\u001b[1m \u001b[0m\u001b[1mLayer (type)                   \u001b[0m\u001b[1m \u001b[0m┃\u001b[1m \u001b[0m\u001b[1mOutput Shape          \u001b[0m\u001b[1m \u001b[0m┃\u001b[1m \u001b[0m\u001b[1m      Param #\u001b[0m\u001b[1m \u001b[0m┃\n",
              "┡━━━━━━━━━━━━━━━━━━━━━━━━━━━━━━━━━╇━━━━━━━━━━━━━━━━━━━━━━━━╇━━━━━━━━━━━━━━━┩\n",
              "│ lstm (\u001b[38;5;33mLSTM\u001b[0m)                     │ (\u001b[38;5;45mNone\u001b[0m, \u001b[38;5;34m50\u001b[0m)             │        \u001b[38;5;34m10,400\u001b[0m │\n",
              "├─────────────────────────────────┼────────────────────────┼───────────────┤\n",
              "│ dense (\u001b[38;5;33mDense\u001b[0m)                   │ (\u001b[38;5;45mNone\u001b[0m, \u001b[38;5;34m1\u001b[0m)              │            \u001b[38;5;34m51\u001b[0m │\n",
              "└─────────────────────────────────┴────────────────────────┴───────────────┘\n"
            ]
          },
          "metadata": {},
          "output_type": "display_data"
        },
        {
          "data": {
            "text/html": [
              "<pre style=\"white-space:pre;overflow-x:auto;line-height:normal;font-family:Menlo,'DejaVu Sans Mono',consolas,'Courier New',monospace\"><span style=\"font-weight: bold\"> Total params: </span><span style=\"color: #00af00; text-decoration-color: #00af00\">31,355</span> (122.48 KB)\n",
              "</pre>\n"
            ],
            "text/plain": [
              "\u001b[1m Total params: \u001b[0m\u001b[38;5;34m31,355\u001b[0m (122.48 KB)\n"
            ]
          },
          "metadata": {},
          "output_type": "display_data"
        },
        {
          "data": {
            "text/html": [
              "<pre style=\"white-space:pre;overflow-x:auto;line-height:normal;font-family:Menlo,'DejaVu Sans Mono',consolas,'Courier New',monospace\"><span style=\"font-weight: bold\"> Trainable params: </span><span style=\"color: #00af00; text-decoration-color: #00af00\">10,451</span> (40.82 KB)\n",
              "</pre>\n"
            ],
            "text/plain": [
              "\u001b[1m Trainable params: \u001b[0m\u001b[38;5;34m10,451\u001b[0m (40.82 KB)\n"
            ]
          },
          "metadata": {},
          "output_type": "display_data"
        },
        {
          "data": {
            "text/html": [
              "<pre style=\"white-space:pre;overflow-x:auto;line-height:normal;font-family:Menlo,'DejaVu Sans Mono',consolas,'Courier New',monospace\"><span style=\"font-weight: bold\"> Non-trainable params: </span><span style=\"color: #00af00; text-decoration-color: #00af00\">0</span> (0.00 B)\n",
              "</pre>\n"
            ],
            "text/plain": [
              "\u001b[1m Non-trainable params: \u001b[0m\u001b[38;5;34m0\u001b[0m (0.00 B)\n"
            ]
          },
          "metadata": {},
          "output_type": "display_data"
        },
        {
          "data": {
            "text/html": [
              "<pre style=\"white-space:pre;overflow-x:auto;line-height:normal;font-family:Menlo,'DejaVu Sans Mono',consolas,'Courier New',monospace\"><span style=\"font-weight: bold\"> Optimizer params: </span><span style=\"color: #00af00; text-decoration-color: #00af00\">20,904</span> (81.66 KB)\n",
              "</pre>\n"
            ],
            "text/plain": [
              "\u001b[1m Optimizer params: \u001b[0m\u001b[38;5;34m20,904\u001b[0m (81.66 KB)\n"
            ]
          },
          "metadata": {},
          "output_type": "display_data"
        },
        {
          "name": "stdout",
          "output_type": "stream",
          "text": [
            "\u001b[1m57/57\u001b[0m \u001b[32m━━━━━━━━━━━━━━━━━━━━\u001b[0m\u001b[37m\u001b[0m \u001b[1m0s\u001b[0m 5ms/step\n",
            "LSTM Test RMSE: 1.8421821813943484\n",
            "\u001b[1m1/1\u001b[0m \u001b[32m━━━━━━━━━━━━━━━━━━━━\u001b[0m\u001b[37m\u001b[0m \u001b[1m0s\u001b[0m 44ms/step\n",
            "LSTM Next Prediction: [[325.11655]]\n"
          ]
        }
      ],
      "source": [
        "# Evaluate the model on the test set\n",
        "loss = model.evaluate(X_test_lstm, y_test_lstm, verbose=0)\n",
        "print(f'LSTM Test Loss (MSE): {loss}')\n",
        "\n",
        "model.summary()\n",
        "\n",
        "# Make predictions on the test set\n",
        "predictions_lstm = model.predict(X_test_lstm)\n",
        "\n",
        "# You can compare these predictions to the actual y_test values\n",
        "# For example, you can calculate RMSE or other metrics on the test set\n",
        "from sklearn.metrics import mean_squared_error\n",
        "import numpy as np # Import numpy for sqrt\n",
        "\n",
        "# Calculate MSE and then take the square root to get RMSE\n",
        "mse_lstm = mean_squared_error(y_test_lstm, predictions_lstm)\n",
        "rmse_lstm = np.sqrt(mse_lstm) # Take the square root to get RMSE\n",
        "print(f'LSTM Test RMSE: {rmse_lstm}')\n",
        "\n",
        "# To predict the next value based on the last sequence in the test set\n",
        "# Ensure the shape is correct for prediction (1, time_steps, n_features)\n",
        "last_sequence = X_test_lstm[-1].reshape(1, time_steps, n_features)\n",
        "next_prediction_lstm = model.predict(last_sequence)\n",
        "print(f'LSTM Next Prediction: {next_prediction_lstm}')"
      ]
    },
    {
      "cell_type": "code",
      "execution_count": 15,
      "metadata": {},
      "outputs": [
        {
          "name": "stdout",
          "output_type": "stream",
          "text": [
            "Linear Regression RMSE: 2.5683758361659503\n",
            "0.9922586694255884\n",
            "Linear Regression R2: 0.9922586694255884\n",
            "Next Prediction: [325.86226324]\n"
          ]
        },
        {
          "name": "stderr",
          "output_type": "stream",
          "text": [
            "/home/zeus/miniconda3/envs/cloudspace/lib/python3.10/site-packages/sklearn/base.py:465: UserWarning: X does not have valid feature names, but LinearRegression was fitted with feature names\n",
            "  warnings.warn(\n"
          ]
        }
      ],
      "source": [
        "\n",
        "from sklearn.linear_model import LinearRegression\n",
        "from sklearn.metrics import mean_squared_error, r2_score\n",
        "\n",
        "\n",
        "model = LinearRegression()\n",
        "model.fit(X_train, y_train)\n",
        "\n",
        "# 4. Evaluate the Model\n",
        "predictions = model.predict(X_test)\n",
        "\n",
        "# Evaluate using RMSE\n",
        "rmse = mean_squared_error(y_test, predictions)\n",
        "print(f'Linear Regression RMSE: {rmse}')\n",
        "\n",
        "# print model summary\n",
        "print(model.score(X_test, y_test))\n",
        "r2 = r2_score(y_test, predictions)\n",
        "print(f'Linear Regression R2: {r2}')\n",
        "\n",
        "# predict the next data\n",
        "next_data = X_test.iloc[-1].values.reshape(1, -1)\n",
        "next_prediction = model.predict(next_data)\n",
        "print(f'Next Prediction: {next_prediction}')\n"
      ]
    }
  ],
  "metadata": {
    "colab": {
      "authorship_tag": "ABX9TyOWO3ZD1DI5Rm+HTSnVSQ6e",
      "include_colab_link": true,
      "mount_file_id": "1v3ZiJnqrhlTTxwQXCIxUBuNNjJIISjZZ",
      "provenance": []
    },
    "kernelspec": {
      "display_name": "Python 3",
      "name": "python3"
    },
    "language_info": {
      "name": "python"
    }
  },
  "nbformat": 4,
  "nbformat_minor": 0
}
